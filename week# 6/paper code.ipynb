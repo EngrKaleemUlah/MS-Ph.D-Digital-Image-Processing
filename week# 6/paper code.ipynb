{
 "cells": [
  {
   "cell_type": "code",
   "execution_count": 25,
   "id": "07507752",
   "metadata": {},
   "outputs": [],
   "source": [
    "import numpy as np\n",
    "import cv2"
   ]
  },
  {
   "cell_type": "code",
   "execution_count": 26,
   "id": "3b82cdae",
   "metadata": {},
   "outputs": [],
   "source": [
    "img = np.array([[49,6,9,9,39,45],\n",
    "                [54,17,58,25,2,45],\n",
    "                [8,33,57,55,51,24],\n",
    "                [55,57,29,48,56,39],\n",
    "                [38,58,38,58,41,10]])\n",
    "img2 = np.pad(img, (1,1), 'constant')\n",
    "result = np.zeros((img.shape[0], img.shape[1]))\n",
    "\n",
    "kernel = np.ones((3,3))\n",
    "\n",
    "temps = []\n",
    "\n",
    "for i in range(img.shape[0]):\n",
    "    for j in range(img.shape[1]):\n",
    "        temp1 = kernel[1,1] * img2[i+1,j+1]\n",
    "        temp2 = kernel[1,0] * img2[i+1,j]\n",
    "        temp3 = kernel[1,2] * img2[i+1,j-1]\n",
    "        \n",
    "        temp4 = kernel[0,0] * img2[i,j-1]\n",
    "        temp5 = kernel[0,1] * img2[i,j]\n",
    "        temp6 = kernel[0,2] * img2[i,j+1]\n",
    "        \n",
    "        temp7 = kernel[2,0] * img2[i+1,j]\n",
    "        temp8 = kernel[2,1] * img2[i+1,j+1]\n",
    "        temp9 = kernel[2,2] * img2[i+1,j-1]\n"
   ]
  },
  {
   "cell_type": "code",
   "execution_count": 32,
   "id": "8b977af9",
   "metadata": {},
   "outputs": [
    {
     "data": {
      "text/plain": [
       "array([[ 0,  0,  0,  0,  0,  0,  0,  0],\n",
       "       [ 0, 49,  6,  9,  9, 39, 45,  0],\n",
       "       [ 0, 54, 17, 58, 25,  2, 45,  0],\n",
       "       [ 0,  8, 33, 57, 55, 51, 24,  0],\n",
       "       [ 0, 55, 57, 29, 48, 56, 39,  0],\n",
       "       [ 0, 38, 58, 38, 58, 41, 10,  0],\n",
       "       [ 0,  0,  0,  0,  0,  0,  0,  0]])"
      ]
     },
     "execution_count": 32,
     "metadata": {},
     "output_type": "execute_result"
    }
   ],
   "source": [
    "img2"
   ]
  },
  {
   "cell_type": "code",
   "execution_count": 17,
   "id": "f49b71bf",
   "metadata": {},
   "outputs": [
    {
     "data": {
      "text/plain": [
       "array([[1., 1., 1.],\n",
       "       [1., 1., 1.],\n",
       "       [1., 1., 1.]])"
      ]
     },
     "execution_count": 17,
     "metadata": {},
     "output_type": "execute_result"
    }
   ],
   "source": [
    "kernel"
   ]
  },
  {
   "cell_type": "code",
   "execution_count": 51,
   "id": "59e4e77b",
   "metadata": {},
   "outputs": [],
   "source": [
    "img = np.array([[49,6,9,9,39,45],\n",
    "                [54,17,58,25,2,45],\n",
    "                [8,33,57,55,51,24],\n",
    "                [55,57,29,48,56,39],\n",
    "                [38,58,38,58,41,10]])\n",
    "img2 = np.pad(img, (1,1), 'constant')\n",
    "result = np.zeros((img.shape[0], img.shape[1]))\n",
    "\n",
    "for i in range(img.shape[0]):\n",
    "    for j in range(img.shape[1]):\n",
    "        area = img2[i:i+3, j:j+3]\n",
    "        area_flat = area.flatten()\n",
    "        sort_area = np.sort(area_flat)\n",
    "        \n",
    "        result[i,j] = sort_area[4]\n",
    "        "
   ]
  },
  {
   "cell_type": "code",
   "execution_count": 52,
   "id": "a7cf9511",
   "metadata": {},
   "outputs": [
    {
     "data": {
      "text/plain": [
       "array([[ 0.,  9.,  9.,  9.,  9.,  0.],\n",
       "       [ 8., 33., 25., 39., 39., 24.],\n",
       "       [17., 54., 48., 51., 45., 24.],\n",
       "       [33., 38., 55., 51., 48., 24.],\n",
       "       [ 0., 38., 38., 38., 39.,  0.]])"
      ]
     },
     "execution_count": 52,
     "metadata": {},
     "output_type": "execute_result"
    }
   ],
   "source": [
    "result"
   ]
  },
  {
   "cell_type": "code",
   "execution_count": 53,
   "id": "c0d58b48",
   "metadata": {},
   "outputs": [],
   "source": [
    "img = np.array([[49,6,9,9,39,45],\n",
    "                [54,17,58,25,2,45],\n",
    "                [8,33,57,55,51,24],\n",
    "                [55,57,29,48,56,39],\n",
    "                [38,58,38,58,41,10]])\n",
    "img2 = np.pad(img, (1,1), 'constant')\n",
    "result = np.zeros((img.shape[0], img.shape[1]))\n",
    "\n",
    "for i in range(img.shape[0]):\n",
    "    for j in range(img.shape[1]):\n",
    "        area = img2[i:i+3, j:j+3]\n",
    "        added = np.sum(area)\n",
    "        result[i,j] = added / 9"
   ]
  },
  {
   "cell_type": "code",
   "execution_count": 54,
   "id": "d681bf12",
   "metadata": {},
   "outputs": [
    {
     "data": {
      "text/plain": [
       "array([[14.        , 21.44444444, 13.77777778, 15.77777778, 18.33333333,\n",
       "        14.55555556],\n",
       "       [18.55555556, 32.33333333, 29.88888889, 33.88888889, 32.77777778,\n",
       "        22.88888889],\n",
       "       [24.88888889, 40.88888889, 42.11111111, 42.33333333, 38.33333333,\n",
       "        24.11111111],\n",
       "       [27.66666667, 41.44444444, 48.11111111, 48.11111111, 42.44444444,\n",
       "        24.55555556],\n",
       "       [23.11111111, 30.55555556, 32.        , 30.        , 28.        ,\n",
       "        16.22222222]])"
      ]
     },
     "execution_count": 54,
     "metadata": {},
     "output_type": "execute_result"
    }
   ],
   "source": [
    "result"
   ]
  },
  {
   "cell_type": "code",
   "execution_count": 56,
   "id": "ce2e0919",
   "metadata": {},
   "outputs": [
    {
     "name": "stdout",
     "output_type": "stream",
     "text": [
      "49\n",
      "6\n",
      "9\n",
      "9\n",
      "39\n",
      "45\n",
      "54\n",
      "17\n",
      "58\n",
      "25\n",
      "2\n",
      "45\n",
      "8\n",
      "33\n",
      "57\n",
      "55\n",
      "51\n",
      "24\n",
      "55\n",
      "57\n",
      "29\n",
      "48\n",
      "56\n",
      "39\n",
      "38\n",
      "58\n",
      "38\n",
      "58\n",
      "41\n",
      "10\n"
     ]
    },
    {
     "data": {
      "text/plain": [
       "array([[0., 0., 0., 0., 0., 0.],\n",
       "       [1., 0., 1., 0., 0., 0.],\n",
       "       [0., 0., 1., 1., 1., 0.],\n",
       "       [1., 1., 0., 0., 1., 0.],\n",
       "       [0., 1., 0., 1., 0., 0.]])"
      ]
     },
     "execution_count": 56,
     "metadata": {},
     "output_type": "execute_result"
    }
   ],
   "source": [
    "result = np.zeros((img.shape[0], img.shape[1]))\n",
    "for i in range(img.shape[0]):\n",
    "    for j in range(img.shape[1]):\n",
    "        print(img[i,j])\n",
    "        if (img[i,j] >= 50 and img[i,j] <= 100):\n",
    "            result[i,j] = 1\n",
    "        else:\n",
    "            result[i,j] = 0\n",
    "\n",
    "result"
   ]
  },
  {
   "cell_type": "code",
   "execution_count": 61,
   "id": "0b4dc385",
   "metadata": {},
   "outputs": [],
   "source": [
    "#playground to generate basic idea of color image\n",
    "result = np.zeros((img.shape[0], img.shape[1],3))\n",
    "\n",
    "r = np.array([[120,130,180,190,200],\n",
    "              [44,33,55,99,122],\n",
    "               [255,250,240,230,255],\n",
    "               [120,230,120,200,128],\n",
    "               [120,130,180,190,200]])\n",
    "              \n",
    "g = np.array([[255,250,240,230,255],\n",
    "              [44,33,55,99,122],\n",
    "               [255,250,240,230,255],\n",
    "               [120,230,120,200,128],\n",
    "               [120,130,180,190,200]]\n",
    "              )\n",
    "b = np.array([[12,22,44,66,77],\n",
    "              [44,33,55,99,122],\n",
    "               [120,230,120,200,128],\n",
    "              [255,250,240,230,255],\n",
    "               [120,130,180,190,200]]\n",
    "              )\n",
    "img = np.dstack((r,g,b))\n",
    "# plt.imshow(img)"
   ]
  },
  {
   "cell_type": "code",
   "execution_count": 63,
   "id": "7dbfe435",
   "metadata": {},
   "outputs": [],
   "source": [
    "for i in range(img.shape[1]):\n",
    "    for j in range(img.shape[2]):\n",
    "        if (img[i,j,0]>50 and img[i,j,0]<=150):\n",
    "            result[i,j,0] = 255\n",
    "        if (img[i,j,1]>200 and img[i,j,1]<=255):\n",
    "            result[i,j,1] = 0\n",
    "            "
   ]
  },
  {
   "cell_type": "code",
   "execution_count": 64,
   "id": "b9218ba6",
   "metadata": {},
   "outputs": [
    {
     "data": {
      "text/plain": [
       "array([[[255.,   0.,   0.],\n",
       "        [255.,   0.,   0.],\n",
       "        [  0.,   0.,   0.],\n",
       "        [  0.,   0.,   0.],\n",
       "        [  0.,   0.,   0.]],\n",
       "\n",
       "       [[  0.,   0.,   0.],\n",
       "        [  0.,   0.,   0.],\n",
       "        [255.,   0.,   0.],\n",
       "        [  0.,   0.,   0.],\n",
       "        [  0.,   0.,   0.]],\n",
       "\n",
       "       [[  0.,   0.,   0.],\n",
       "        [  0.,   0.,   0.],\n",
       "        [  0.,   0.,   0.],\n",
       "        [  0.,   0.,   0.],\n",
       "        [  0.,   0.,   0.]],\n",
       "\n",
       "       [[255.,   0.,   0.],\n",
       "        [  0.,   0.,   0.],\n",
       "        [255.,   0.,   0.],\n",
       "        [  0.,   0.,   0.],\n",
       "        [  0.,   0.,   0.]],\n",
       "\n",
       "       [[255.,   0.,   0.],\n",
       "        [255.,   0.,   0.],\n",
       "        [  0.,   0.,   0.],\n",
       "        [  0.,   0.,   0.],\n",
       "        [  0.,   0.,   0.]]])"
      ]
     },
     "execution_count": 64,
     "metadata": {},
     "output_type": "execute_result"
    }
   ],
   "source": [
    "result"
   ]
  },
  {
   "cell_type": "code",
   "execution_count": null,
   "id": "3a76841b",
   "metadata": {},
   "outputs": [],
   "source": []
  }
 ],
 "metadata": {
  "kernelspec": {
   "display_name": "Python 3 (ipykernel)",
   "language": "python",
   "name": "python3"
  },
  "language_info": {
   "codemirror_mode": {
    "name": "ipython",
    "version": 3
   },
   "file_extension": ".py",
   "mimetype": "text/x-python",
   "name": "python",
   "nbconvert_exporter": "python",
   "pygments_lexer": "ipython3",
   "version": "3.9.12"
  }
 },
 "nbformat": 4,
 "nbformat_minor": 5
}
